{
 "cells": [
  {
   "cell_type": "code",
   "execution_count": null,
   "id": "db772b44",
   "metadata": {},
   "outputs": [],
   "source": [
    "#Automação Web com Python\n",
    "#Pyhon + Selenium"
   ]
  },
  {
   "cell_type": "code",
   "execution_count": 14,
   "id": "cd274476",
   "metadata": {},
   "outputs": [],
   "source": [
    "from selenium import webdriver\n",
    "\n",
    "navegador = webdriver.Chrome()\n",
    "\n",
    "navegador.get(\"https://store.steampowered.com/?l=portuguese\")#navega até o site\n",
    "navegador.find_element_by_xpath('//*[@id=\"global_action_menu\"]/div[1]/a').click()#caminho de codigos permite localizar o elemente de acordo com o xpath dele\n",
    "navegador.find_element_by_xpath('//*[@id=\"about_greeting\"]/div[4]/div[1]/a').click()\n"
   ]
  }
 ],
 "metadata": {
  "kernelspec": {
   "display_name": "Python 3",
   "language": "python",
   "name": "python3"
  },
  "language_info": {
   "codemirror_mode": {
    "name": "ipython",
    "version": 3
   },
   "file_extension": ".py",
   "mimetype": "text/x-python",
   "name": "python",
   "nbconvert_exporter": "python",
   "pygments_lexer": "ipython3",
   "version": "3.8.8"
  }
 },
 "nbformat": 4,
 "nbformat_minor": 5
}
